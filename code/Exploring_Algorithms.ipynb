{
 "cells": [
  {
   "cell_type": "code",
   "execution_count": 1,
   "id": "e5f6eb67",
   "metadata": {},
   "outputs": [],
   "source": [
    "import numpy\n",
    "import pandas\n",
    "import Cleaner\n",
    "import sklearn\n",
    "import sklearn.model_selection #train_test_split, GridSearchCV\n",
    "import sklearn.ensemble #RandomForestClassifier\n",
    "import sklearn.metrics #accuracy_score, precision_score, recall_score"
   ]
  },
  {
   "cell_type": "code",
   "execution_count": 2,
   "id": "c60d1a7d",
   "metadata": {},
   "outputs": [],
   "source": [
    "Cleaner.Clean(\"b765dc3d8076-trainset.csv\")\n",
    "Cleaner.Clean(\"b765dc3d8076-testset_for_participants.csv\")"
   ]
  },
  {
   "cell_type": "code",
   "execution_count": 3,
   "id": "8278f69b",
   "metadata": {},
   "outputs": [],
   "source": [
    "df = pandas.read_csv('b765dc3d8076-trainset_cleaned.csv')\n",
    "\n",
    "Train, temp = sklearn.model_selection.train_test_split(df, test_size=0.4, random_state=2026)\n",
    "\n",
    "Validation, Testing = sklearn.model_selection.train_test_split(temp, test_size=0.5, random_state=2026)\n",
    "\n",
    "# Spilt into Train = 60%, Validation = 20%, Testing = 20%"
   ]
  },
  {
   "cell_type": "code",
   "execution_count": 4,
   "id": "e1f58032",
   "metadata": {},
   "outputs": [],
   "source": [
    "train_features = Train.drop(columns = ['FRAUD_NONFRAUD'])\n",
    "train_labels = Train['FRAUD_NONFRAUD']\n",
    "\n",
    "val_features = Validation.drop(columns = ['FRAUD_NONFRAUD'])\n",
    "val_labels = Validation['FRAUD_NONFRAUD']\n",
    "\n",
    "test_features = Testing.drop(columns = ['FRAUD_NONFRAUD'])\n",
    "test_labels = Testing['FRAUD_NONFRAUD']"
   ]
  },
  {
   "cell_type": "code",
   "execution_count": 5,
   "id": "9f057023",
   "metadata": {},
   "outputs": [],
   "source": [
    "# function to print out results the GridSearchCV returns\n",
    "def print_results(results):\n",
    "    means_lst = results.cv_results_['mean_test_score']\n",
    "    parameters_lst = results.cv_results_['params' ]\n",
    "    sorted_parameters = sorted(enumerate(parameters_lst), key = lambda x: means_lst[x[0]] , reverse=True )\n",
    "    sorted_parameters = map(lambda x: (x[1],means_lst[x[0]]) , sorted_parameters)\n",
    "    print(\"sorted\")\n",
    "    for x in list(sorted_parameters):\n",
    "        print(x[0], round(x[1],4) )"
   ]
  },
  {
   "cell_type": "code",
   "execution_count": 6,
   "id": "8cdffbd0",
   "metadata": {},
   "outputs": [
    {
     "data": {
      "text/plain": [
       "GridSearchCV(cv=5, estimator=RandomForestClassifier(),\n",
       "             param_grid={'max_depth': [8, 10, 12, 15, 20, 25, None],\n",
       "                         'n_estimators': [10, 20, 30, 40, 50, 60, 70, 80, 90,\n",
       "                                          100]})"
      ]
     },
     "execution_count": 6,
     "metadata": {},
     "output_type": "execute_result"
    }
   ],
   "source": [
    "rf = sklearn.ensemble.RandomForestClassifier()\n",
    "parameters = { 'n_estimators' : [10,20,30,40,50,60,70,80,90,100], 'max_depth' : [8,10,12,15,20,25,None] }\n",
    "\n",
    "# for breaking a set into 5 subsets (cv=5), and all the combination of parameters\n",
    "cv = sklearn.model_selection.GridSearchCV(rf, parameters, cv=5)\n",
    "\n",
    "# try each combination of parameters on the data, trianing on 4 or the 5 subsets, and testing on one of the subsets\n",
    "cv.fit(train_features , train_labels)\n",
    "\n",
    "# This takes awhile to run with the amount of parameters choosen, I probally could lower the number of differnt parameters \n",
    "# if I was working with a larger data set"
   ]
  },
  {
   "cell_type": "code",
   "execution_count": 7,
   "id": "9242519d",
   "metadata": {},
   "outputs": [
    {
     "name": "stdout",
     "output_type": "stream",
     "text": [
      "sorted\n",
      "{'max_depth': None, 'n_estimators': 80} 0.9526\n",
      "{'max_depth': 12, 'n_estimators': 50} 0.952\n",
      "{'max_depth': 15, 'n_estimators': 80} 0.952\n",
      "{'max_depth': 20, 'n_estimators': 100} 0.952\n",
      "{'max_depth': 12, 'n_estimators': 100} 0.9519\n",
      "{'max_depth': None, 'n_estimators': 70} 0.9518\n",
      "{'max_depth': 15, 'n_estimators': 90} 0.9517\n",
      "{'max_depth': 25, 'n_estimators': 100} 0.9517\n",
      "{'max_depth': None, 'n_estimators': 90} 0.9517\n",
      "{'max_depth': 12, 'n_estimators': 70} 0.9515\n",
      "{'max_depth': 20, 'n_estimators': 90} 0.9514\n",
      "{'max_depth': 25, 'n_estimators': 90} 0.9514\n",
      "{'max_depth': None, 'n_estimators': 50} 0.9514\n",
      "{'max_depth': 10, 'n_estimators': 90} 0.9513\n",
      "{'max_depth': 12, 'n_estimators': 80} 0.9513\n",
      "{'max_depth': 10, 'n_estimators': 50} 0.9512\n",
      "{'max_depth': 15, 'n_estimators': 100} 0.9512\n",
      "{'max_depth': 25, 'n_estimators': 50} 0.9512\n",
      "{'max_depth': 10, 'n_estimators': 70} 0.9511\n",
      "{'max_depth': 12, 'n_estimators': 90} 0.951\n",
      "{'max_depth': 15, 'n_estimators': 50} 0.951\n",
      "{'max_depth': 25, 'n_estimators': 80} 0.951\n",
      "{'max_depth': 20, 'n_estimators': 80} 0.9508\n",
      "{'max_depth': 10, 'n_estimators': 80} 0.9507\n",
      "{'max_depth': 15, 'n_estimators': 60} 0.9507\n",
      "{'max_depth': 20, 'n_estimators': 70} 0.9507\n",
      "{'max_depth': None, 'n_estimators': 100} 0.9507\n",
      "{'max_depth': 15, 'n_estimators': 70} 0.9506\n",
      "{'max_depth': 20, 'n_estimators': 50} 0.9506\n",
      "{'max_depth': 12, 'n_estimators': 30} 0.9506\n",
      "{'max_depth': 20, 'n_estimators': 40} 0.9506\n",
      "{'max_depth': 20, 'n_estimators': 30} 0.9505\n",
      "{'max_depth': None, 'n_estimators': 30} 0.9505\n",
      "{'max_depth': None, 'n_estimators': 60} 0.9504\n",
      "{'max_depth': 12, 'n_estimators': 40} 0.9502\n",
      "{'max_depth': 12, 'n_estimators': 60} 0.9499\n",
      "{'max_depth': 20, 'n_estimators': 60} 0.9499\n",
      "{'max_depth': None, 'n_estimators': 40} 0.9498\n",
      "{'max_depth': 25, 'n_estimators': 70} 0.9496\n",
      "{'max_depth': 10, 'n_estimators': 100} 0.9496\n",
      "{'max_depth': 8, 'n_estimators': 60} 0.9495\n",
      "{'max_depth': 8, 'n_estimators': 90} 0.9495\n",
      "{'max_depth': 15, 'n_estimators': 30} 0.9495\n",
      "{'max_depth': 10, 'n_estimators': 40} 0.9494\n",
      "{'max_depth': 12, 'n_estimators': 20} 0.9493\n",
      "{'max_depth': 10, 'n_estimators': 60} 0.9493\n",
      "{'max_depth': 25, 'n_estimators': 40} 0.9492\n",
      "{'max_depth': 25, 'n_estimators': 60} 0.9492\n",
      "{'max_depth': 10, 'n_estimators': 30} 0.9489\n",
      "{'max_depth': 8, 'n_estimators': 50} 0.9487\n",
      "{'max_depth': 15, 'n_estimators': 40} 0.9487\n",
      "{'max_depth': 8, 'n_estimators': 100} 0.9487\n",
      "{'max_depth': 25, 'n_estimators': 30} 0.9486\n",
      "{'max_depth': 8, 'n_estimators': 80} 0.9482\n",
      "{'max_depth': 8, 'n_estimators': 70} 0.9475\n",
      "{'max_depth': 25, 'n_estimators': 20} 0.9474\n",
      "{'max_depth': 20, 'n_estimators': 20} 0.9473\n",
      "{'max_depth': None, 'n_estimators': 20} 0.9473\n",
      "{'max_depth': 8, 'n_estimators': 40} 0.947\n",
      "{'max_depth': 10, 'n_estimators': 20} 0.9467\n",
      "{'max_depth': 8, 'n_estimators': 20} 0.9465\n",
      "{'max_depth': 8, 'n_estimators': 30} 0.9464\n",
      "{'max_depth': 15, 'n_estimators': 20} 0.946\n",
      "{'max_depth': 10, 'n_estimators': 10} 0.9455\n",
      "{'max_depth': 12, 'n_estimators': 10} 0.9449\n",
      "{'max_depth': 15, 'n_estimators': 10} 0.9432\n",
      "{'max_depth': 25, 'n_estimators': 10} 0.9431\n",
      "{'max_depth': 8, 'n_estimators': 10} 0.9424\n",
      "{'max_depth': None, 'n_estimators': 10} 0.9415\n",
      "{'max_depth': 20, 'n_estimators': 10} 0.941\n"
     ]
    }
   ],
   "source": [
    "print_results(cv)"
   ]
  },
  {
   "cell_type": "code",
   "execution_count": 8,
   "id": "9f1b4f7d",
   "metadata": {
    "collapsed": true
   },
   "outputs": [
    {
     "data": {
      "text/plain": [
       "RandomForestClassifier(max_depth=15, n_estimators=80)"
      ]
     },
     "execution_count": 8,
     "metadata": {},
     "output_type": "execute_result"
    }
   ],
   "source": [
    "# refit on best three hyperpramenter paramtization\n",
    "\n",
    "best_three = [(None,80),(12,50),(15,80)]\n",
    "\n",
    "rf1 = sklearn.ensemble.RandomForestClassifier(max_depth=best_three[0][0] ,n_estimators=best_three[0][1] )\n",
    "rf1.fit(train_features, train_labels)\n",
    "\n",
    "rf2 = sklearn.ensemble.RandomForestClassifier(max_depth=best_three[1][0] ,n_estimators=best_three[1][1])\n",
    "rf2.fit(train_features, train_labels)\n",
    "\n",
    "rf3 = sklearn.ensemble.RandomForestClassifier(max_depth=best_three[2][0] ,n_estimators=best_three[2][1])\n",
    "rf3.fit(train_features, train_labels)"
   ]
  },
  {
   "cell_type": "code",
   "execution_count": 18,
   "id": "f7f94277",
   "metadata": {},
   "outputs": [
    {
     "name": "stdout",
     "output_type": "stream",
     "text": [
      "Validation set\n",
      "max depth: None n-estimators: 80\n",
      "   F1 Score: 0.965989847715736 \n",
      "\n",
      "max depth: 12 n-estimators: 50\n",
      "   F1 Score: 0.9650278763304613 \n",
      "\n",
      "max depth: 15 n-estimators: 80\n",
      "   F1 Score: 0.9662864385297846 \n",
      "\n",
      "\n",
      "Test set\n",
      "max depth: None n-estimators: 80\n",
      "   F1 Score: 0.9670936950514947 \n",
      "\n",
      "max depth: 12 n-estimators: 50\n",
      "   F1 Score: 0.9699549323985979 \n",
      "\n",
      "max depth: 15 n-estimators: 80\n",
      "   F1 Score: 0.9693928750627195 \n",
      "\n"
     ]
    }
   ],
   "source": [
    "print(\"Validation set\")\n",
    "for a_model in [rf1,rf2,rf3]:\n",
    "    y_pred = a_model.predict(val_features)\n",
    "    accuracy = sklearn.metrics.accuracy_score(val_labels, y_pred)\n",
    "    precision = sklearn.metrics.precision_score(val_labels, y_pred)\n",
    "    recall = sklearn.metrics.recall_score(val_labels, y_pred)\n",
    "    print(\"max depth:\", a_model.max_depth, \"n-estimators:\",a_model.n_estimators )\n",
    "    print('   F1 Score:', (2*precision*recall)/(precision+recall) ,\"\\n\")\n",
    "\n",
    "\n",
    "print(\"\\nTest set\")\n",
    "for a_model in [rf1,rf2,rf3]:\n",
    "    y_pred = a_model.predict(test_features)\n",
    "    accuracy = sklearn.metrics.accuracy_score(test_labels, y_pred)\n",
    "    precision = sklearn.metrics.precision_score(test_labels, y_pred)\n",
    "    recall = sklearn.metrics.recall_score(test_labels, y_pred)\n",
    "    print(\"max depth:\", a_model.max_depth, \"n-estimators:\",a_model.n_estimators)\n",
    "    print('   F1 Score:', (2*precision*recall)/(precision+recall),\"\\n\" )"
   ]
  },
  {
   "cell_type": "code",
   "execution_count": null,
   "id": "6f2c57d5",
   "metadata": {},
   "outputs": [],
   "source": [
    "# Will choose max_depth=15 n_estimators =80"
   ]
  }
 ],
 "metadata": {
  "kernelspec": {
   "display_name": "Python 3 (ipykernel)",
   "language": "python",
   "name": "python3"
  },
  "language_info": {
   "codemirror_mode": {
    "name": "ipython",
    "version": 3
   },
   "file_extension": ".py",
   "mimetype": "text/x-python",
   "name": "python",
   "nbconvert_exporter": "python",
   "pygments_lexer": "ipython3",
   "version": "3.9.7"
  }
 },
 "nbformat": 4,
 "nbformat_minor": 5
}
